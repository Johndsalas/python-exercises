{
 "cells": [
  {
   "cell_type": "code",
   "execution_count": 3,
   "metadata": {},
   "outputs": [
    {
     "name": "stdout",
     "output_type": "stream",
     "text": [
      "~~~ Welcome to your terminal checkbook! ~~~\n",
      "\n",
      "\n",
      "What would you like to do?\n",
      "\n",
      "1: View Balance\n",
      "2: Record a Debit (Withdraw)\n",
      "3: Record a Credit (Deposit)\n",
      "4: Quit Application\n",
      "\n",
      "1\n",
      "1 make a new choice!\n",
      "2\n",
      "2 make a new choice!\n",
      "2\n",
      "2 make a new choice!\n",
      "3\n",
      "3 make a new choice!\n",
      "1\n",
      "\n",
      "\n",
      "What would you like to do?\n",
      "\n",
      "1: View Balance\n",
      "2: Record a Debit (Withdraw)\n",
      "3: Record a Credit (Deposit)\n",
      "4: Quit Application\n",
      "\n",
      "4\n",
      "Thank You, Good By\n"
     ]
    }
   ],
   "source": [
    "application = \"on\"\n",
    "\n",
    "print(\"~~~ Welcome to your terminal checkbook! ~~~\")\n",
    "\n",
    "\n",
    "while application == \"on\":\n",
    "\n",
    "    print(\"\")\n",
    "    print(\"\")\n",
    "    print(\"What would you like to do?\")\n",
    "    print(\"\")\n",
    "    print(\"1: View Balance\")\n",
    "    print(\"2: Record a Debit (Withdraw)\")\n",
    "    print(\"3: Record a Credit (Deposit)\")\n",
    "    print(\"4: Quit Application\")\n",
    "    print(\"\")\n",
    "    choice = input()\n",
    "\n",
    "    if choice != \"1\" and choice != \"2\" and choice != \"3\" and choice != \"4\":\n",
    "        \n",
    "        print(\"Please enter 1, 2, 3, or 4.\")\n",
    "        \n",
    "    else:\n",
    "        \n",
    "        while choice == \"1\":\n",
    "            print(\"1 make a new choice!\")\n",
    "            choice = input()\n",
    "        \n",
    "        while choice == \"2\":\n",
    "            print(\"2 make a new choice!\")\n",
    "            choice = input()\n",
    "    \n",
    "        while choice == \"3\":\n",
    "            print(\"3 make a new choice!\")\n",
    "            choice = input()\n",
    "    \n",
    "        if choice == \"4\":\n",
    "            print(\"Thank You, Good By\")\n",
    "            break\n",
    "      "
   ]
  },
  {
   "cell_type": "code",
   "execution_count": null,
   "metadata": {},
   "outputs": [],
   "source": []
  },
  {
   "cell_type": "code",
   "execution_count": null,
   "metadata": {},
   "outputs": [],
   "source": []
  }
 ],
 "metadata": {
  "kernelspec": {
   "display_name": "Python 3",
   "language": "python",
   "name": "python3"
  },
  "language_info": {
   "codemirror_mode": {
    "name": "ipython",
    "version": 3
   },
   "file_extension": ".py",
   "mimetype": "text/x-python",
   "name": "python",
   "nbconvert_exporter": "python",
   "pygments_lexer": "ipython3",
   "version": "3.7.3"
  }
 },
 "nbformat": 4,
 "nbformat_minor": 2
}
