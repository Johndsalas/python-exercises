{
 "cells": [
  {
   "cell_type": "code",
   "execution_count": 4,
   "metadata": {},
   "outputs": [
    {
     "name": "stdout",
     "output_type": "stream",
     "text": [
      "Name a day of the week.\n",
      "monday\n",
      "The named day is monday!\n"
     ]
    }
   ],
   "source": [
    "# Conditional Basics\n",
    "\n",
    "#prompt the user for a day of the week, print out whether the day is Monday or not\n",
    "\n",
    "print(\"Name a day of the week.\")\n",
    "\n",
    "day = input()\n",
    "\n",
    "if day.lower() == \"monday\":\n",
    "    print(\"The named day is monday!\")\n",
    "    \n",
    "else:\n",
    "    print(\"The named day is not monday!\")\n",
    "\n",
    "\n"
   ]
  },
  {
   "cell_type": "code",
   "execution_count": 7,
   "metadata": {},
   "outputs": [
    {
     "name": "stdout",
     "output_type": "stream",
     "text": [
      "Name a day of the week.\n",
      "monday\n",
      "monday is a weekday!\n"
     ]
    }
   ],
   "source": [
    "#prompt the user for a day of the week, print out whether the day is a weekday or a weekend\n",
    "\n",
    "def weekend():\n",
    "\n",
    "    print(\"Name a day of the week.\")\n",
    "    \n",
    "    day = input()\n",
    "\n",
    "    if day.lower() == (\"saturday\" or \"sunday\"):\n",
    "        print(f\"{day} is a weekend!\")\n",
    "    \n",
    "    elif day.lower() == \"monday\" or \"tuseday\" or \"wednesday\" or \"thursday\" or \"friday\":\n",
    "        print(f\"{day} is a weekday!\")\n",
    "    \n",
    "    else: \n",
    "        print(\"Invalid entry!\")\n",
    "        print(\"\")\n",
    "        weekend()\n",
    "        \n",
    "weekend()\n"
   ]
  },
  {
   "cell_type": "code",
   "execution_count": 8,
   "metadata": {},
   "outputs": [],
   "source": [
    "#create variables and make up values for\n",
    "\n",
    "#the number of hours worked in one week\n",
    "\n",
    "hours_per_week = 50\n",
    "#the hourly rate\n",
    "\n",
    "hourly_rate = 12.50\n",
    "\n",
    "#how much the week's paycheck will be\n",
    "\n",
    "pay_check = hours_per_week * hourly_rate\n",
    "\n",
    "#write the python code that calculates the weekly paycheck. You get paid time and a half if you work more than 40 hours\n",
    "\n",
    "def weekly_paycheck(hours_per_week,hourly_rate):\n",
    "    \n",
    "    overtime = 0\n",
    "    regular_time = 0\n",
    "    \n",
    "    if hours_per_week > 50:\n",
    "        overtime = (hours_per_week-40) * (hourly_rate * 1.5)\n",
    "        \n",
    "    regular_time = hours_per_week * hourly_rate\n",
    "    \n",
    "    weekly_pay = overtime + regular_pay\n",
    "    \n",
    "    print(weekly_pay)\n",
    "    return weekly_pay\n",
    "\n",
    "#Loop Basics\n",
    "\n",
    "#While\n",
    "\n",
    "#Create an integer variable i with a value of 5.\n",
    "#Create a while loop that runs so long as i is less than or equal to 15\n",
    "#Each loop iteration, output the current value of i, then increment i by one."
   ]
  },
  {
   "cell_type": "raw",
   "metadata": {},
   "source": []
  },
  {
   "cell_type": "code",
   "execution_count": null,
   "metadata": {},
   "outputs": [],
   "source": []
  }
 ],
 "metadata": {
  "kernelspec": {
   "display_name": "Python 3",
   "language": "python",
   "name": "python3"
  },
  "language_info": {
   "codemirror_mode": {
    "name": "ipython",
    "version": 3
   },
   "file_extension": ".py",
   "mimetype": "text/x-python",
   "name": "python",
   "nbconvert_exporter": "python",
   "pygments_lexer": "ipython3",
   "version": "3.7.3"
  }
 },
 "nbformat": 4,
 "nbformat_minor": 2
}
