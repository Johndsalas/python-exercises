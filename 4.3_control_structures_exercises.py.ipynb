{
 "cells": [
  {
   "cell_type": "code",
   "execution_count": 4,
   "metadata": {},
   "outputs": [
    {
     "name": "stdout",
     "output_type": "stream",
     "text": [
      "Name a day of the week.\n",
      "monday\n",
      "The named day is monday!\n"
     ]
    }
   ],
   "source": [
    "# Conditional Basics\n",
    "\n",
    "#prompt the user for a day of the week, print out whether the day is Monday or not\n",
    "\n",
    "print(\"Name a day of the week.\")\n",
    "\n",
    "day = input()\n",
    "\n",
    "if day.lower() == \"monday\":\n",
    "    print(\"The named day is monday!\")\n",
    "    \n",
    "else:\n",
    "    print(\"The named day is not monday!\")\n",
    "\n",
    "\n"
   ]
  },
  {
   "cell_type": "code",
   "execution_count": 7,
   "metadata": {},
   "outputs": [
    {
     "name": "stdout",
     "output_type": "stream",
     "text": [
      "Name a day of the week.\n",
      "monday\n",
      "monday is a weekday!\n"
     ]
    }
   ],
   "source": [
    "#prompt the user for a day of the week, print out whether the day is a weekday or a weekend\n",
    "\n",
    "def weekend():\n",
    "\n",
    "    print(\"Name a day of the week.\")\n",
    "    \n",
    "    day = input()\n",
    "\n",
    "    if day.lower() == (\"saturday\" or \"sunday\"):\n",
    "        print(f\"{day} is a weekend!\")\n",
    "    \n",
    "    elif day.lower() == \"monday\" or \"tuseday\" or \"wednesday\" or \"thursday\" or \"friday\":\n",
    "        print(f\"{day} is a weekday!\")\n",
    "    \n",
    "    else: \n",
    "        print(\"Invalid entry!\")\n",
    "        print(\"\")\n",
    "        weekend()\n",
    "        \n",
    "weekend()\n"
   ]
  },
  {
   "cell_type": "code",
   "execution_count": 8,
   "metadata": {},
   "outputs": [],
   "source": [
    "#create variables and make up values for\n",
    "\n",
    "#the number of hours worked in one week\n",
    "\n",
    "hours_per_week = 50\n",
    "#the hourly rate\n",
    "\n",
    "hourly_rate = 12.50\n",
    "\n",
    "#how much the week's paycheck will be\n",
    "\n",
    "pay_check = hours_per_week * hourly_rate\n",
    "\n",
    "#write the python code that calculates the weekly paycheck. You get paid time and a half if you work more than 40 hours\n",
    "\n",
    "def weekly_paycheck(hours_per_week,hourly_rate):\n",
    "    \n",
    "    overtime = 0\n",
    "    regular_time = 0\n",
    "    \n",
    "    if hours_per_week > 50:\n",
    "        overtime = (hours_per_week-40) * (hourly_rate * 1.5)\n",
    "        \n",
    "    regular_time = hours_per_week * hourly_rate\n",
    "    \n",
    "    weekly_pay = overtime + regular_pay\n",
    "    \n",
    "    print(weekly_pay)\n",
    "    return weekly_pay\n",
    "\n",
    "#Loop Basics\n",
    "\n",
    "#While\n",
    "\n",
    "#Create an integer variable i with a value of 5.\n",
    "#Create a while loop that runs so long as i is less than or equal to 15\n",
    "#Each loop iteration, output the current value of i, then increment i by one."
   ]
  },
  {
   "cell_type": "code",
   "execution_count": 9,
   "metadata": {},
   "outputs": [
    {
     "name": "stdout",
     "output_type": "stream",
     "text": [
      "Give me a number.\n",
      "3\n",
      "3 X 1 = 3\n",
      "3 X 2 = 6\n",
      "3 X 3 = 9\n",
      "3 X 4 = 12\n",
      "3 X 5 = 15\n",
      "3 X 6 = 18\n",
      "3 X 7 = 21\n",
      "3 X 8 = 24\n",
      "3 X 9 = 27\n",
      "3 X 10 = 30\n"
     ]
    }
   ],
   "source": [
    "#Write some code that prompts the user for a number, then shows a multiplication table up through 10 for that number.\n",
    "\n",
    "print(\"Give me a number.\")\n",
    "\n",
    "number = input()\n",
    "\n",
    "x = 1\n",
    "\n",
    "while x <= 10:\n",
    "    \n",
    "    print(f\"{number} X {x} = \" + str(int(number) * x))\n",
    "    x += 1\n"
   ]
  },
  {
   "cell_type": "code",
   "execution_count": null,
   "metadata": {},
   "outputs": [],
   "source": [
    "break and continue\n",
    "\n",
    "Prompt the user for an odd number between 1 and 50. Use a loop and a break statement to continue prompting the user if they enter invalid input. (Hint: use the isdigit method on strings to determine this). \n",
    "Use a loop and the continue statement to output all the odd numbers between 1 and 50, except for the number the user entered."
   ]
  }
 ],
 "metadata": {
  "kernelspec": {
   "display_name": "Python 3",
   "language": "python",
   "name": "python3"
  },
  "language_info": {
   "codemirror_mode": {
    "name": "ipython",
    "version": 3
   },
   "file_extension": ".py",
   "mimetype": "text/x-python",
   "name": "python",
   "nbconvert_exporter": "python",
   "pygments_lexer": "ipython3",
   "version": "3.7.3"
  }
 },
 "nbformat": 4,
 "nbformat_minor": 2
}
